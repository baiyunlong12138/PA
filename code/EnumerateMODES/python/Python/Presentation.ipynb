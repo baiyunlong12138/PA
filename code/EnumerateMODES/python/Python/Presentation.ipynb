{
 "cells": [
  {
   "cell_type": "markdown",
   "metadata": {},
   "source": [
    "<div>\n",
    "<h1>Presentation 30.08.2023<h1>\n",
    "</div>\n",
    "<div class=\"logo\">\n",
    "    <img src=\"https://www.modes.rwth-aachen.de/global/show_picture.asp?id=aaaaaaaabpnsrxy\", style=\"position: absolute; top: 0; right: 0;\", width=600, heigth=600>\n",
    "</div>"
   ]
  },
  {
   "cell_type": "code",
   "execution_count": null,
   "metadata": {},
   "outputs": [],
   "source": [
    "import EnumerateMODES as modes"
   ]
  },
  {
   "cell_type": "code",
   "execution_count": null,
   "metadata": {},
   "outputs": [],
   "source": [
    "modes.Molecular_visualization('O=C1C=CC(=O)c(c12)cccc2')"
   ]
  },
  {
   "cell_type": "code",
   "execution_count": null,
   "metadata": {},
   "outputs": [],
   "source": [
    "modes.Smiles_to_Smarts('O=C1C=CC(=O)C=C1')"
   ]
  },
  {
   "cell_type": "code",
   "execution_count": null,
   "metadata": {},
   "outputs": [],
   "source": [
    "modes.SubstructMatch('O=C1C=CC(=O)c(c12)cccc2', '[O]=[C]1-[c]:[c]-[C](=[O])-[C]=[C]-1')"
   ]
  },
  {
   "cell_type": "code",
   "execution_count": null,
   "metadata": {},
   "outputs": [],
   "source": [
    "modes.Pattern_visualization('[O:0]=[C:1]1-[c:2]:[c:3]-[C:4](=[O:5])-[C:6]=[C:7]-1>>[O:0]-[c:1]1:[c:2]:[c:3]:[c:4](-[O:5]):[c:6]:[c:7]:1')\n",
    "\n",
    "\n",
    "from rdkit.Chem import Draw\n",
    "from rdkit.Chem import AllChem\n",
    "from rdkit import Chem\n",
    "\n",
    "reactant = Chem.MolFromSmiles('O=C1C=CC(=O)c(c12)cccc2')\n",
    "reaction_pattern = '[O:0]=[C:1]1-[c:2]:[c:3]-[C:4](=[O:5])-[C:6]=[C:7]-1>>[O:0]-[c:1]1:[c:2]:[c:3]:[c:4](-[O:5]):[c:6]:[c:7]:1'\n",
    "rxn = AllChem.ReactionFromSmarts(reaction_pattern)\n",
    "products = rxn.RunReactants([reactant])\n",
    "img = Chem.Draw.MolToImage(products[0][0], size=(300, 300))\n",
    "display(img)"
   ]
  },
  {
   "cell_type": "code",
   "execution_count": null,
   "metadata": {},
   "outputs": [],
   "source": [
    "modes.Pattern_visualization('[O:0]=[C:1]1-[C:2]=[C:3]-[C:4](=[O:5])-[C:6]=[C:7]-1>>[O:0]-[c:1]1:[c:2]:[c:3]:[c:4](-[O:5]):[c:6]:[c:7]:1')\n",
    "modes.Pattern_visualization('[O:0]=[C:1]1-[c:2]:[c:3]-[C:4](=[O:5])-[C:6]=[C:7]-1>>[O:0]-[c:1]1:[c:2]:[c:3]:[c:4](-[O:5]):[c:6]:[c:7]:1')\n",
    "modes.Pattern_visualization('[O:0]=[C:1]1-[c:2]:[c:3]-[C:4](=[O:5])-[c:6]:[c:7]-1>>[O:0]-[c:1]1:[c:2]:[c:3]:[c:4](-[O:5]):[c:6]:[c:7]:1')\n",
    "modes.Pattern_visualization('[O:0]=[c:1]1:[c:2]=[c:3]:[c:4](=[O:5]):[c:6]:[c:7]:1>>[O:0]-[c:1]1:[c:2]:[c:3]:[c:4](-[O:5]):[c:6]:[c:7]:1')\n",
    "modes.Pattern_visualization('[O:0]-[c:1]1:[c:2]:[c:3]:[c:4](-[O:5]):[c:6]:[c:7]:1>>[O:0]=[C:1]1-[C:2]=[C:3]-[C:4](=[O:5])-[C:6]=[C:7]-1')\n",
    "modes.Pattern_visualization('[O:0]=[C:1]1-[C:7](=[O:5])-[C:6]=[C:4]-[C:3]=[C:2]-1>>[O:0]-[c:1]1:[c:2]:[c:3]:[c:4]:[c:6]:[c:7]:1-[O:5]')\n",
    "modes.Pattern_visualization('[O:0]-[c:1]1:[c:2]:[c:3]:[c:4]:[c:6]:[c:7]:1-[O:5]>>[O:0]=[C:1]1-[C:7](=[O:5])-[C:6]=[C:4]-[C:3]=[C:2]-1')"
   ]
  },
  {
   "cell_type": "markdown",
   "metadata": {},
   "source": [
    "<div>\n",
    "<h2>Knime<h2>\n",
    "</div>\n",
    "Advantages:<br>\n",
    "1. Fancy and intuitive<br>\n",
    "2. Once the workflow is built, it will be very convenient and suitable for large projects<br>\n",
    "Disadvantages:<br>\n",
    "1. Various conversions are required<br>\n",
    "2. Need to use various software<br>\n",
    "3. Not flexible enough<br>\n",
    "4. Learning costs are too high<br>"
   ]
  },
  {
   "cell_type": "code",
   "execution_count": null,
   "metadata": {},
   "outputs": [],
   "source": [
    "modes.Convert_smiles_to_2d_sdf()"
   ]
  },
  {
   "cell_type": "code",
   "execution_count": null,
   "metadata": {},
   "outputs": [],
   "source": [
    "Reactants_Path = './Input/Reactants_reduction.txt'\n",
    "Pattern_Path = './Input/Pattern.txt'\n",
    "\n",
    "modes.Enum_library_generation(Reactants_Path, Pattern_Path)"
   ]
  },
  {
   "cell_type": "code",
   "execution_count": null,
   "metadata": {},
   "outputs": [],
   "source": [
    "Reactants_Path = './Input/Reactants_oxidation.txt'\n",
    "Pattern_Path = './Input/Pattern.txt'\n",
    "\n",
    "modes.Enum_library_generation(Reactants_Path, Pattern_Path)"
   ]
  },
  {
   "cell_type": "markdown",
   "metadata": {},
   "source": [
    "In the future:<br>\n",
    "1. Ranking<br>\n",
    "2. Add computing module<br>\n",
    "3. Filtering<br>\n",
    "4. Reaction pattern for multiple reactants<br>\n",
    "5. Multi-step reaction<br>\n"
   ]
  },
  {
   "cell_type": "code",
   "execution_count": null,
   "metadata": {},
   "outputs": [],
   "source": [
    "modes.Molecular_visualization('c1cccc(c12)c(=O)c3c(c2=O)c(=O)c(SCCS(=O)(=O)O)c(c3=O)SCCS(=O)(=O)O')\n",
    "modes.Pattern_visualization('[O:0]=[c:1]1-[c:2]=[c:3]-[c:4](=[O:5]):[c:6]:[c:7]:1>>[O:0]-[c:1]1:[c:2]:[c:3]:[c:4](-[O:5]):[c:6]:[c:7]:1')\n",
    "modes.SubstructMatch('c1cccc(c12)c(=O)c3c(c2=O)c(=O)c(SCCS(=O)(=O)O)c(c3=O)SCCS(=O)(=O)O', '[O]=[c]1-[c]=[c]-[c](=[O]):[c]:[c]:1')"
   ]
  },
  {
   "cell_type": "code",
   "execution_count": null,
   "metadata": {},
   "outputs": [],
   "source": [
    "modes.Molecular_visualization('Oc1ccc(O)cc1') # Reactant\n",
    "modes.Molecular_visualization('O=C1C=CC(=O)C=C1') # Product\n",
    "modes.SubstructMatch('O=C1C=CC(=O)C=C1', '[O]=[C]1-[C]=[C]-[C](=[O])-[C]=[C]-1') # Product will match Pattern_1 again"
   ]
  },
  {
   "cell_type": "code",
   "execution_count": null,
   "metadata": {},
   "outputs": [],
   "source": [
    "modes.Molecular_visualization('Oc1ccc(O)c2ccccc12') # Reactant\n",
    "modes.Molecular_visualization('O=C1C=CC(=O)c2ccccc=21') # Product\n",
    "modes.SubstructMatch('O=C1C=CC(=O)c2ccccc=21', '[O]=[C]1-[c]:[c]-[C](=[O])-[C]=[C]-1') # Product will match Pattern_2 again"
   ]
  },
  {
   "cell_type": "code",
   "execution_count": null,
   "metadata": {},
   "outputs": [],
   "source": [
    "modes.Molecular_visualization('Oc1c2ccccc2c(O)c2ccccc12') # Reactant\n",
    "modes.Molecular_visualization('O=C1c2ccccc=2C(=O)c2ccccc=21') # Product\n",
    "modes.SubstructMatch('O=C1c2ccccc=2C(=O)c2ccccc=21', '[O]=[C]1-[c]:[c]-[C](=[O])-[c]:[c]-1') # Product will match Pattern_3 again"
   ]
  },
  {
   "cell_type": "code",
   "execution_count": null,
   "metadata": {},
   "outputs": [],
   "source": [
    "modes.Molecular_visualization('\tO=c1c2c(O)c(SCCS(=O)(=O)O)c(SCCS(=O)(=O)O)c(O)c=2c(=O)c2ccccc12\t') # Reactant\n",
    "modes.Molecular_visualization('O=C1C(SCCS(=O)(=O)O)=C(SCCS(=O)(=O)O)C(=O)C2=C1C(=O)c1ccccc1C2=O') # Product\n",
    "modes.SubstructMatch('O=C1C(SCCS(=O)(=O)O)=C(SCCS(=O)(=O)O)C(=O)C2=C1C(=O)c1ccccc1C2=O', '[O]=[c]1:[c]=[c]:[c](=[O]):[c]:[c]:1') # Product will match Pattern_4 again"
   ]
  }
 ],
 "metadata": {
  "kernelspec": {
   "display_name": "Python 3",
   "language": "python",
   "name": "python3"
  },
  "language_info": {
   "codemirror_mode": {
    "name": "ipython",
    "version": 3
   },
   "file_extension": ".py",
   "mimetype": "text/x-python",
   "name": "python",
   "nbconvert_exporter": "python",
   "pygments_lexer": "ipython3",
   "version": "3.11.4"
  },
  "orig_nbformat": 4
 },
 "nbformat": 4,
 "nbformat_minor": 2
}
